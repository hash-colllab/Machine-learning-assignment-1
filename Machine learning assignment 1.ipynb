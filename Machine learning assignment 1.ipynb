{
 "cells": [
  {
   "cell_type": "markdown",
   "id": "67dcedf1-6fe6-43f4-ad06-e71b738e2da4",
   "metadata": {},
   "source": [
    "Answer 1:-"
   ]
  },
  {
   "cell_type": "markdown",
   "id": "66b7369f-8608-47d3-b8f9-e12f32c929c6",
   "metadata": {},
   "source": [
    "Artificial Intelligence: It refers to the stimulation of human intelligence in machines that are programmed to think and learn like humans.AI enables machines to perform tasks such as problem solving,decision making,speech recogoniztion and languauage translation which typically use human intelligence.\n",
    "\n",
    "Example :\n",
    "The AI bots like Siri and Google assistant which perform human intelligence tasks based on the way we speak.\n",
    "ChatGpt is also an example AI which posseses human intelligence and perform tasks based on the input we provide\n",
    "\n",
    "\n",
    "Machine Learning : It is the subset of AI which involves the development of algorithms and statistical models that invloves computers which allows computers to learn from experience without being mannually programmed/instructed . The system learns from the data and make predictions or decisions based on the patterns and insights found on the data.\n",
    "\n",
    "Example:\n",
    "Consider Email spam filtering system here instead of hard-coding rules for identifying spam emails, a machine learning algorithm can be trained on a dataset of labeled emails (spam or non-spam) and then the algorithm learns to recognize patterns and characteristics associated with spam emails, allowing it to automatically classify future emails as spam or not.\n",
    "\n",
    "\n",
    "Deep Learning :It is a specialized subset of Machine Learning that uses neural networks to model and solve complex problems and is particularly effective in handling large amounts of unstructered data such as images,audio and text.\n",
    "\n",
    "Example;\n",
    "Image recognition is a common application of deep learning. Here a deep learning model called a Convolutional Neural Network (CNN) can be trained to identify objects in images. By feeding the network a vast dataset of labeled images, it learns to recognize features and patterns in the images. Once trained, the CNN can accurately identify objects in new, unseen images, even if the objects have slight variations in position or appearance."
   ]
  },
  {
   "cell_type": "markdown",
   "id": "0e46b0bf-8fc7-4cf7-be14-4636d46502fb",
   "metadata": {},
   "source": [
    "Answer 2:-"
   ]
  },
  {
   "cell_type": "markdown",
   "id": "174c5277-59fa-4550-95fb-2a62235e0c4d",
   "metadata": {},
   "source": [
    "Supervised Learning is a type of machine learning where the algorithm is trained on labelled dataset ie. each input in the training data is associated with the corresponding correct output.During the training the algorithm learns to map inputs to the correct outputs and once trained it can make predictions on the new input data.\n",
    "\n",
    "Examples of supervised learning are :\n",
    "\n",
    "Email Spam Classification : The algorithm is trained on a dataset of emails labeled as spam or not spam. It learns to distinguish between the two labels spam and non-spam emails and can be used to classify new incoming emails.\n",
    "Sentiment Analysis : In this, the algorithm is trained on a dataset of text documents (e.g., customer reviews) along with their associated sentiment labels (positive, negative, neutral). The algorithm learns to predict the sentiments of new text data."
   ]
  },
  {
   "cell_type": "markdown",
   "id": "234d90de-ff46-439c-9907-b8a7ff3331d0",
   "metadata": {},
   "source": [
    "Answer 3:-"
   ]
  },
  {
   "cell_type": "markdown",
   "id": "c537dcba-a8a6-48c5-9b7d-a9880b97bf09",
   "metadata": {},
   "source": [
    "Unsupervised Learning is a type of machine learning where the algorithmn is trained on an unlabelled dataset ie. the data does not have corresponding output labels.The goal of unsupervised learning is to find patterns structures and relationships within the data without explicint guidance.Here,instead of predicting specific outputs the algorithm attempts to identify inherit structures and groupings in the data\n",
    "\n",
    "Examples of Unsupervised Learning are:\n",
    "\n",
    "Customer Segmentation : This comes under the catergory of Clustering .Here the algorithm groups the similar data points together based on thier inherit charecteristics. Say for example we are using kmeans clustering algorithm here the data is divided into k cluster each representing its centeroid. Here customers are grouped on bases of specific metrices."
   ]
  },
  {
   "cell_type": "markdown",
   "id": "f7a4f407-3eba-468a-b96e-45522621ba1e",
   "metadata": {},
   "source": [
    "Answer 4:-"
   ]
  },
  {
   "cell_type": "markdown",
   "id": "4d2e6a50-a12a-4541-bbc8-92b74ec8f5cd",
   "metadata": {},
   "source": [
    "\r\n",
    "\r\n",
    "\r\n",
    "Artificial Intelligence is the concept of creating smart intelligent machines. \r\n",
    "\r\n",
    "Machine Learning is a subset of artificial intelligence that helps you build AI-driven applications.\r\n",
    "\r\n",
    "Deep Learning is a subset of machine learning that uses vast volumes of data and complex algorithms to train\n",
    "\n",
    "Data Science is an interdisciplinary field that combines various techniques, methodologies, and tools to extract knowledge and insights from data.  a model."
   ]
  },
  {
   "cell_type": "markdown",
   "id": "1c1ddae3-24e2-46c2-892a-68582d12dc2a",
   "metadata": {},
   "source": [
    "Answer 5:-"
   ]
  },
  {
   "cell_type": "markdown",
   "id": "8fa53bd5-01e7-48ab-b142-e1252302c8c1",
   "metadata": {},
   "source": [
    "Supervised Learning:\r\n",
    "\r\n",
    "Training Data: In supervised learning, the algorithm is trained on a labeled dataset, where each input data point is associated with the corresponding output label.\r\n",
    "Learning Objective: The primary goal of supervised learning is to learn a mapping between inputs and outputs so that the algorithm can make accurate predictions on new, unseen data. It learns from the labeled examples provided during training.\r\n",
    "Example: In image classification, a supervised learning algorithm is trained on a dataset of images along with their corresponding labels (e.g., cats or dogs). The algorithm learns to associate image features with the correct labels, allowing it to classify new images.\r\n",
    "\r\n",
    "Unsupervised Learning:\r\n",
    "\r\n",
    "Training Data: In unsupervised learning, the algorithm is trained on an unlabeled dataset, meaning there are no corresponding output labels provided during training.\r\n",
    "Learning Objective: The main goal of unsupervised learning is to discover patterns, structures, or relationships within the data without explicit guidance from labeled examples. The algorithm tries to find inherent groupings or similarities in the data.\r\n",
    "Example: In clustering, an unsupervised learning algorithm groups similar data points together based on their similarities. For example, it can be used to segment customers based on their buying behavior without having prior knowledge of their categories.\r\n",
    "\r\n",
    "Semi-Supervised Learning:\r\n",
    "\r\n",
    "Training Data: Semi-supervised learning combines elements of both supervised and unsupervised learning. It uses a dataset that contains a mix of labeled and unlabeled data.\r\n",
    "Learning Objective: The objective of semi-supervised learning is to leverage the labeled data to improve the learning process on the unlabeled data. The algorithm aims to learn from the limited labeled examples and the underlying structure of the unlabeled data.\r\n",
    "Example: In semi-supervised image classification, the algorithm may have a small subset of labeled images and a much larger set of unabeled images. B"
   ]
  },
  {
   "cell_type": "markdown",
   "id": "70a92c71-070f-4d04-914d-12c34cd93fa5",
   "metadata": {},
   "source": [
    "Answer 6:-"
   ]
  },
  {
   "cell_type": "markdown",
   "id": "2f8b320d-e0d8-403d-8238-db2e2d4ea26b",
   "metadata": {},
   "source": [
    "In machine learning, the process of splitting a dataset into three subsets: training set, test set, and validation set is known as \"train-test-validation split.\" Each subset serves a specific purpose in the machine learning workflow.\n",
    "\n",
    "Training Set:\n",
    "Importance: The training set is the portion of the dataset used to train the machine learning model. It contains a large amount of labeled data, where both the input features and the corresponding output labels are provided.\n",
    "\n",
    "Validation Set:\n",
    "Importance: The validation set is a subset of the training data that is used to tune hyperparameters and assess the model's performance during training.\n",
    "\n",
    "Test Set:\n",
    "Importance: The test set is a separate portion of the dataset that is not used during the training phase. It is used to evaluate the performance and generalization capability of the trained model."
   ]
  },
  {
   "cell_type": "markdown",
   "id": "98c690c9-7785-42de-9054-b18c71235aa2",
   "metadata": {},
   "source": [
    "Answer 7:-"
   ]
  },
  {
   "cell_type": "markdown",
   "id": "fe2e40db-f0be-42a5-9738-2f9499d5d287",
   "metadata": {},
   "source": [
    "Unsupervised learning is particularly well-suited for anomaly detection because it does not require labeled data, and anomalies are often rare and hard to obtain sufficient labeled examples for supervised learning. Anomaly detection with unsupervised learning involves identifying data points that deviate significantly from the majority of the data, indicating potential anomalies. "
   ]
  },
  {
   "cell_type": "markdown",
   "id": "9cd0b0bd-29e8-4311-8475-b50d646236e8",
   "metadata": {},
   "source": [
    "Answer 8:-"
   ]
  },
  {
   "cell_type": "code",
   "execution_count": null,
   "id": "ae1b3dc5-74e0-4f50-94ff-3c986bcc87f3",
   "metadata": {},
   "outputs": [],
   "source": []
  }
 ],
 "metadata": {
  "kernelspec": {
   "display_name": "Python 3 (ipykernel)",
   "language": "python",
   "name": "python3"
  },
  "language_info": {
   "codemirror_mode": {
    "name": "ipython",
    "version": 3
   },
   "file_extension": ".py",
   "mimetype": "text/x-python",
   "name": "python",
   "nbconvert_exporter": "python",
   "pygments_lexer": "ipython3",
   "version": "3.12.4"
  }
 },
 "nbformat": 4,
 "nbformat_minor": 5
}
